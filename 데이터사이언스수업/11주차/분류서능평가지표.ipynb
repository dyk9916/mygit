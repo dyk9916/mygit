{
 "cells": [
  {
   "cell_type": "markdown",
   "id": "118f5bd0",
   "metadata": {},
   "source": [
    "분류 기준값 (Threshold) 조정    \n",
    "기본적으론 threshold는 0.5이다.   \n",
    "그러나 모델의 목적에 따라 threshold를 조정할 수 있다.   \n",
    "재현율이 중요한 경우에는 threshold를 낮춰 더 많은 데이터를 양성으로 예측하게 한다.    \n",
    "정밀도가 중요한 경우에는 threshold를 높여 더 확실한 경우만 양성으로 예측한다.   \n",
    "F1-score는 재현율과 정밀도의 조화 평균이다    \n"
   ]
  },
  {
   "cell_type": "markdown",
   "id": "b2a4d3a9",
   "metadata": {},
   "source": [
    "혼동 행렬(Confusion matrix)   \n",
    "혼동 행렬은 분류 모델의 성능을 분석하는 기본적인 도구이다.    \n",
    "오분류율, 정확도, 정밀도, 재현율 등 어떤 것을 더 중요하게 고려할지 결정해야 한다.   \n",
    "Threshold는 조정하면 precision과 Recall을 조절할 수 있으며, 문제의 특성에 맞게 최적화할 수 있다.    \n",
    "데이터 불균형이 심한 경우엔 정확도보다 정밀도, 재현율, F1-score의 지표를 활용하는 것이 더 적절하다    "
   ]
  }
 ],
 "metadata": {
  "kernelspec": {
   "display_name": "Python 3",
   "language": "python",
   "name": "python3"
  },
  "language_info": {
   "name": "python",
   "version": "3.12.0"
  }
 },
 "nbformat": 4,
 "nbformat_minor": 5
}
