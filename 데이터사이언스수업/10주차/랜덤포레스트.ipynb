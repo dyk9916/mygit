{
 "cells": [
  {
   "cell_type": "markdown",
   "id": "7ebe1118",
   "metadata": {},
   "source": [
    "### 의사결정나무와 랜덤 포레스트(예측/분류모델)   \n",
    "\n",
    "의사결정나무란 데이터가 트리 구조로 분기되며 최적의 예측 조건을 찾는 알고리즘이다.    \n",
    "분류와 회귀 모두 사용 가능하다    \n",
    "기본 원리: 데이터를 불순도가 낮아지도록 반복적으로 나누면서 트리를 생성   \n",
    "범주의 동질성이 최대한 높도록 분류 기준을 설정    \n",
    "\n",
    "불순도 측정 방법    \n",
    "지니 계수: 그룹 내 특정 클래스 비율의 제곱을 이용해 계산    \n",
    "  - 범위: 0(완전 순수) ~ 0.5(불순도 최대)    \n",
    "\n",
    "엔트로피: 불확실성을 측정하여 분류 성능을 평가    \n",
    "  - 범위: 0(완전 순수) ~ log2(c)(불순도 최대)   \n",
    "\n",
    "정보 획득량: 분류 전후의 불손도 감소량을 측정   \n",
    "  - 정보 획득량이 높을수록 분할이 효과적    \n",
    "  - 의사결정나무는 정보 획득량이 가장 높은 변수를 선택하여 분할 진행    \n",
    "\n",
    "의사결정나무의 한계   \n",
    "과적합 문제   \n",
    "트리의 깊이가 너무 깊어지면 데이터에 과적합되어 새로운 데이터에 대한 예측력이 저하된다. \n",
    "해결 방법: 가지치기, 노드 데이터 수 제한, 트리 깊이 제한      \n",
    "\n",
    "불안정한 결과   \n",
    "새로운 데이터가 추가되면 트리의 분기가 달라질 수 있어 일관된 모델 유지가 어렵다.    \n",
    "해결 방법: 랜덤 포레스트 사용   "
   ]
  },
  {
   "cell_type": "markdown",
   "id": "80d38ed7",
   "metadata": {},
   "source": [
    "랜덤 포레스트란 의사결정나무의 단점을 보완한 앙상블 학습 기법이다.    \n",
    "여러 개의 의사결정나무를 학습시켜 예측을 종합하는 방식으로 단일 의사결정나무 모델보다 일반화 성능이 우수하고, 과적합을 방지해준다.    \n",
    "\n",
    "기본원리    \n",
    "여러 개의 의사결정나무를 만들어 다수결(분류) 또는 평균(회귀)으로 최종 에측을 수행   \n",
    "데이터와 독립변수를 무작위로 샘플링하여 각각의 트리에 학습시키는 방식   \n",
    "트리 간의 상관성을 줄여 과적합을 방지하고 모델의 안정성을 높인다.   \n",
    "\n",
    "학습 및 예측 과정   \n",
    "Step 1: 학습 데이터에서 부트스트랩 방식으로 랜덤 샘플링   \n",
    "Step 2: 각 트리에 사용할 독립변수를 무작위로 n개 선택(중복 없음)    \n",
    "Step 3: 선택한 데이터와 변수로 의사결정나무 학습      \n",
    "Step 4: Step1~3을 k번 반복하여 여러 개의 트리 생성    \n",
    "Step 5: 생성한 k개의 트리를 통해 예측값 도출    \n",
    "분류인 경우 다수결 방식으로 최종 결과 예측    \n",
    "회귀인 경우 각 트리의 예측값 평균으로 최종 결과 예측       "
   ]
  },
  {
   "cell_type": "code",
   "execution_count": 1,
   "id": "18a9dd03",
   "metadata": {},
   "outputs": [
    {
     "name": "stdout",
     "output_type": "stream",
     "text": [
      "Warning: Looks like you're using an outdated `kagglehub` version, please consider updating (latest version: 0.3.12)\n",
      "Downloading from https://www.kaggle.com/api/v1/datasets/download/uciml/glass?dataset_version_number=1...\n"
     ]
    },
    {
     "name": "stderr",
     "output_type": "stream",
     "text": [
      "100%|██████████| 3.42k/3.42k [00:00<00:00, 3.50MB/s]"
     ]
    },
    {
     "name": "stdout",
     "output_type": "stream",
     "text": [
      "Extracting files...\n",
      "Path to dataset files: C:\\Users\\KimDongyoung\\.cache\\kagglehub\\datasets\\uciml\\glass\\versions\\1\n"
     ]
    },
    {
     "name": "stderr",
     "output_type": "stream",
     "text": [
      "\n"
     ]
    }
   ],
   "source": [
    "import kagglehub\n",
    "\n",
    "# Download latest version\n",
    "path = kagglehub.dataset_download(\"uciml/glass\")\n",
    "\n",
    "print(\"Path to dataset files:\", path)"
   ]
  },
  {
   "cell_type": "code",
   "execution_count": 3,
   "id": "8b14d8c2",
   "metadata": {},
   "outputs": [],
   "source": [
    "# 필요한 패키지 설치\n",
    "from sklearn.preprocessing import MinMaxScaler\n",
    "from sklearn.model_selection import train_test_split\n",
    "from sklearn.tree import DecisionTreeClassifier\n",
    "# import pydotplus\n",
    "from sklearn.tree import export_graphviz\n",
    "from IPython.core.display import Image\n",
    "from sklearn.metrics import accuracy_score\n",
    "from sklearn.ensemble import RandomForestClassifier\n",
    "from sklearn.metrics import classification_report\n",
    "import pandas as pd\n",
    "import numpy as np\n",
    "import seaborn as sns\n",
    "import matplotlib.pyplot as plt"
   ]
  },
  {
   "cell_type": "code",
   "execution_count": 4,
   "id": "fde5ec68",
   "metadata": {},
   "outputs": [
    {
     "data": {
      "text/html": [
       "<div>\n",
       "<style scoped>\n",
       "    .dataframe tbody tr th:only-of-type {\n",
       "        vertical-align: middle;\n",
       "    }\n",
       "\n",
       "    .dataframe tbody tr th {\n",
       "        vertical-align: top;\n",
       "    }\n",
       "\n",
       "    .dataframe thead th {\n",
       "        text-align: right;\n",
       "    }\n",
       "</style>\n",
       "<table border=\"1\" class=\"dataframe\">\n",
       "  <thead>\n",
       "    <tr style=\"text-align: right;\">\n",
       "      <th></th>\n",
       "      <th>RI</th>\n",
       "      <th>Na</th>\n",
       "      <th>Mg</th>\n",
       "      <th>Al</th>\n",
       "      <th>Si</th>\n",
       "      <th>K</th>\n",
       "      <th>Ca</th>\n",
       "      <th>Ba</th>\n",
       "      <th>Fe</th>\n",
       "      <th>Type</th>\n",
       "    </tr>\n",
       "  </thead>\n",
       "  <tbody>\n",
       "    <tr>\n",
       "      <th>0</th>\n",
       "      <td>1.52101</td>\n",
       "      <td>13.64</td>\n",
       "      <td>4.49</td>\n",
       "      <td>1.10</td>\n",
       "      <td>71.78</td>\n",
       "      <td>0.06</td>\n",
       "      <td>8.75</td>\n",
       "      <td>0.0</td>\n",
       "      <td>0.0</td>\n",
       "      <td>1</td>\n",
       "    </tr>\n",
       "    <tr>\n",
       "      <th>1</th>\n",
       "      <td>1.51761</td>\n",
       "      <td>13.89</td>\n",
       "      <td>3.60</td>\n",
       "      <td>1.36</td>\n",
       "      <td>72.73</td>\n",
       "      <td>0.48</td>\n",
       "      <td>7.83</td>\n",
       "      <td>0.0</td>\n",
       "      <td>0.0</td>\n",
       "      <td>1</td>\n",
       "    </tr>\n",
       "    <tr>\n",
       "      <th>2</th>\n",
       "      <td>1.51618</td>\n",
       "      <td>13.53</td>\n",
       "      <td>3.55</td>\n",
       "      <td>1.54</td>\n",
       "      <td>72.99</td>\n",
       "      <td>0.39</td>\n",
       "      <td>7.78</td>\n",
       "      <td>0.0</td>\n",
       "      <td>0.0</td>\n",
       "      <td>1</td>\n",
       "    </tr>\n",
       "    <tr>\n",
       "      <th>3</th>\n",
       "      <td>1.51766</td>\n",
       "      <td>13.21</td>\n",
       "      <td>3.69</td>\n",
       "      <td>1.29</td>\n",
       "      <td>72.61</td>\n",
       "      <td>0.57</td>\n",
       "      <td>8.22</td>\n",
       "      <td>0.0</td>\n",
       "      <td>0.0</td>\n",
       "      <td>1</td>\n",
       "    </tr>\n",
       "    <tr>\n",
       "      <th>4</th>\n",
       "      <td>1.51742</td>\n",
       "      <td>13.27</td>\n",
       "      <td>3.62</td>\n",
       "      <td>1.24</td>\n",
       "      <td>73.08</td>\n",
       "      <td>0.55</td>\n",
       "      <td>8.07</td>\n",
       "      <td>0.0</td>\n",
       "      <td>0.0</td>\n",
       "      <td>1</td>\n",
       "    </tr>\n",
       "  </tbody>\n",
       "</table>\n",
       "</div>"
      ],
      "text/plain": [
       "        RI     Na    Mg    Al     Si     K    Ca   Ba   Fe  Type\n",
       "0  1.52101  13.64  4.49  1.10  71.78  0.06  8.75  0.0  0.0     1\n",
       "1  1.51761  13.89  3.60  1.36  72.73  0.48  7.83  0.0  0.0     1\n",
       "2  1.51618  13.53  3.55  1.54  72.99  0.39  7.78  0.0  0.0     1\n",
       "3  1.51766  13.21  3.69  1.29  72.61  0.57  8.22  0.0  0.0     1\n",
       "4  1.51742  13.27  3.62  1.24  73.08  0.55  8.07  0.0  0.0     1"
      ]
     },
     "execution_count": 4,
     "metadata": {},
     "output_type": "execute_result"
    }
   ],
   "source": [
    "# 데이터 불러오기\n",
    "# https://www.kaggle.com/datasets/uciml/glass\n",
    "df = pd.read_csv(\"C:/Users/KimDongyoung/.cache/kagglehub/datasets/uciml/glass/versions/1/glass.csv\")\n",
    "\n",
    "# 데이터 샘플 확인\n",
    "df.head()\n"
   ]
  },
  {
   "cell_type": "code",
   "execution_count": 5,
   "id": "79ca0e0d",
   "metadata": {},
   "outputs": [
    {
     "name": "stdout",
     "output_type": "stream",
     "text": [
      "<class 'pandas.core.frame.DataFrame'>\n",
      "RangeIndex: 214 entries, 0 to 213\n",
      "Data columns (total 10 columns):\n",
      " #   Column  Non-Null Count  Dtype  \n",
      "---  ------  --------------  -----  \n",
      " 0   RI      214 non-null    float64\n",
      " 1   Na      214 non-null    float64\n",
      " 2   Mg      214 non-null    float64\n",
      " 3   Al      214 non-null    float64\n",
      " 4   Si      214 non-null    float64\n",
      " 5   K       214 non-null    float64\n",
      " 6   Ca      214 non-null    float64\n",
      " 7   Ba      214 non-null    float64\n",
      " 8   Fe      214 non-null    float64\n",
      " 9   Type    214 non-null    int64  \n",
      "dtypes: float64(9), int64(1)\n",
      "memory usage: 16.8 KB\n"
     ]
    }
   ],
   "source": [
    "# 컬럼 정보 확인\n",
    "\n",
    "df.info()"
   ]
  },
  {
   "cell_type": "code",
   "execution_count": 8,
   "id": "83ae74a1",
   "metadata": {},
   "outputs": [
    {
     "data": {
      "text/html": [
       "<div>\n",
       "<style scoped>\n",
       "    .dataframe tbody tr th:only-of-type {\n",
       "        vertical-align: middle;\n",
       "    }\n",
       "\n",
       "    .dataframe tbody tr th {\n",
       "        vertical-align: top;\n",
       "    }\n",
       "\n",
       "    .dataframe thead th {\n",
       "        text-align: right;\n",
       "    }\n",
       "</style>\n",
       "<table border=\"1\" class=\"dataframe\">\n",
       "  <thead>\n",
       "    <tr style=\"text-align: right;\">\n",
       "      <th></th>\n",
       "      <th>RI</th>\n",
       "      <th>Na</th>\n",
       "      <th>Mg</th>\n",
       "      <th>Al</th>\n",
       "      <th>Si</th>\n",
       "      <th>K</th>\n",
       "      <th>Ca</th>\n",
       "      <th>Ba</th>\n",
       "      <th>Fe</th>\n",
       "      <th>Type</th>\n",
       "      <th>Type_str</th>\n",
       "    </tr>\n",
       "  </thead>\n",
       "  <tbody>\n",
       "    <tr>\n",
       "      <th>0</th>\n",
       "      <td>1.52101</td>\n",
       "      <td>13.64</td>\n",
       "      <td>4.49</td>\n",
       "      <td>1.10</td>\n",
       "      <td>71.78</td>\n",
       "      <td>0.06</td>\n",
       "      <td>8.75</td>\n",
       "      <td>0.0</td>\n",
       "      <td>0.0</td>\n",
       "      <td>1</td>\n",
       "      <td>1</td>\n",
       "    </tr>\n",
       "    <tr>\n",
       "      <th>1</th>\n",
       "      <td>1.51761</td>\n",
       "      <td>13.89</td>\n",
       "      <td>3.60</td>\n",
       "      <td>1.36</td>\n",
       "      <td>72.73</td>\n",
       "      <td>0.48</td>\n",
       "      <td>7.83</td>\n",
       "      <td>0.0</td>\n",
       "      <td>0.0</td>\n",
       "      <td>1</td>\n",
       "      <td>1</td>\n",
       "    </tr>\n",
       "    <tr>\n",
       "      <th>2</th>\n",
       "      <td>1.51618</td>\n",
       "      <td>13.53</td>\n",
       "      <td>3.55</td>\n",
       "      <td>1.54</td>\n",
       "      <td>72.99</td>\n",
       "      <td>0.39</td>\n",
       "      <td>7.78</td>\n",
       "      <td>0.0</td>\n",
       "      <td>0.0</td>\n",
       "      <td>1</td>\n",
       "      <td>1</td>\n",
       "    </tr>\n",
       "    <tr>\n",
       "      <th>3</th>\n",
       "      <td>1.51766</td>\n",
       "      <td>13.21</td>\n",
       "      <td>3.69</td>\n",
       "      <td>1.29</td>\n",
       "      <td>72.61</td>\n",
       "      <td>0.57</td>\n",
       "      <td>8.22</td>\n",
       "      <td>0.0</td>\n",
       "      <td>0.0</td>\n",
       "      <td>1</td>\n",
       "      <td>1</td>\n",
       "    </tr>\n",
       "    <tr>\n",
       "      <th>4</th>\n",
       "      <td>1.51742</td>\n",
       "      <td>13.27</td>\n",
       "      <td>3.62</td>\n",
       "      <td>1.24</td>\n",
       "      <td>73.08</td>\n",
       "      <td>0.55</td>\n",
       "      <td>8.07</td>\n",
       "      <td>0.0</td>\n",
       "      <td>0.0</td>\n",
       "      <td>1</td>\n",
       "      <td>1</td>\n",
       "    </tr>\n",
       "  </tbody>\n",
       "</table>\n",
       "</div>"
      ],
      "text/plain": [
       "        RI     Na    Mg    Al     Si     K    Ca   Ba   Fe  Type Type_str\n",
       "0  1.52101  13.64  4.49  1.10  71.78  0.06  8.75  0.0  0.0     1        1\n",
       "1  1.51761  13.89  3.60  1.36  72.73  0.48  7.83  0.0  0.0     1        1\n",
       "2  1.51618  13.53  3.55  1.54  72.99  0.39  7.78  0.0  0.0     1        1\n",
       "3  1.51766  13.21  3.69  1.29  72.61  0.57  8.22  0.0  0.0     1        1\n",
       "4  1.51742  13.27  3.62  1.24  73.08  0.55  8.07  0.0  0.0     1        1"
      ]
     },
     "execution_count": 8,
     "metadata": {},
     "output_type": "execute_result"
    }
   ],
   "source": [
    "# 종속변수 문자형 변환\n",
    "\n",
    "df[\"Type_str\"]=df[\"Type\"].apply(str)\n",
    "df.head()"
   ]
  },
  {
   "cell_type": "code",
   "execution_count": 9,
   "id": "d57df860",
   "metadata": {},
   "outputs": [
    {
     "name": "stdout",
     "output_type": "stream",
     "text": [
      "train data 개수:  128\n",
      "test data 개수:  86\n"
     ]
    }
   ],
   "source": [
    "# 의사결정나무 모델 용 데이터셋 가공\n",
    "\n",
    "# 독립변수, 종속변수 분리\n",
    "df_x = df[['RI','Na','Mg','Al','Si','K','Ca','Ba','Fe']]\n",
    "df_y = df[['Type_str']]\n",
    "\n",
    "# 학습셋과 테스트셋 분리하여 생성(6:4)\n",
    "x_train, x_test, y_train, y_test = train_test_split(\n",
    "    df_x,df_y,test_size=0.4,random_state=10)\n",
    "\n",
    "# 학습셋과 검증셋이 잘 나뉘었는지 확인\n",
    "print('train data 개수: ', len(x_train))\n",
    "print('test data 개수: ', len(x_test))"
   ]
  },
  {
   "cell_type": "code",
   "execution_count": 10,
   "id": "731b0d87",
   "metadata": {},
   "outputs": [
    {
     "data": {
      "text/plain": [
       "0.6046511627906976"
      ]
     },
     "execution_count": 10,
     "metadata": {},
     "output_type": "execute_result"
    }
   ],
   "source": [
    "# 의사결정나무 모델 적용\n",
    "\n",
    "# 모델 생성 및 학습\n",
    "dt_model = DecisionTreeClassifier(criterion = \"entropy\", max_depth=5)\n",
    "dt_model.fit(x_train,y_train)\n",
    "\n",
    "# 테스트셋 예측\n",
    "y_pred = dt_model.predict(x_test)\n",
    "\n",
    "# 정확도 계산\n",
    "accuracy_score(y_test, y_pred)"
   ]
  },
  {
   "cell_type": "code",
   "execution_count": 11,
   "id": "754ac283",
   "metadata": {},
   "outputs": [
    {
     "data": {
      "text/html": [
       "<div>\n",
       "<style scoped>\n",
       "    .dataframe tbody tr th:only-of-type {\n",
       "        vertical-align: middle;\n",
       "    }\n",
       "\n",
       "    .dataframe tbody tr th {\n",
       "        vertical-align: top;\n",
       "    }\n",
       "\n",
       "    .dataframe thead th {\n",
       "        text-align: right;\n",
       "    }\n",
       "</style>\n",
       "<table border=\"1\" class=\"dataframe\">\n",
       "  <thead>\n",
       "    <tr style=\"text-align: right;\">\n",
       "      <th></th>\n",
       "      <th>feature</th>\n",
       "      <th>importance</th>\n",
       "    </tr>\n",
       "  </thead>\n",
       "  <tbody>\n",
       "    <tr>\n",
       "      <th>0</th>\n",
       "      <td>RI</td>\n",
       "      <td>0.071871</td>\n",
       "    </tr>\n",
       "    <tr>\n",
       "      <th>1</th>\n",
       "      <td>Na</td>\n",
       "      <td>0.082840</td>\n",
       "    </tr>\n",
       "    <tr>\n",
       "      <th>2</th>\n",
       "      <td>Mg</td>\n",
       "      <td>0.320142</td>\n",
       "    </tr>\n",
       "    <tr>\n",
       "      <th>3</th>\n",
       "      <td>Al</td>\n",
       "      <td>0.237760</td>\n",
       "    </tr>\n",
       "    <tr>\n",
       "      <th>4</th>\n",
       "      <td>Si</td>\n",
       "      <td>0.155650</td>\n",
       "    </tr>\n",
       "    <tr>\n",
       "      <th>5</th>\n",
       "      <td>K</td>\n",
       "      <td>0.017020</td>\n",
       "    </tr>\n",
       "    <tr>\n",
       "      <th>6</th>\n",
       "      <td>Ca</td>\n",
       "      <td>0.114717</td>\n",
       "    </tr>\n",
       "    <tr>\n",
       "      <th>7</th>\n",
       "      <td>Ba</td>\n",
       "      <td>0.000000</td>\n",
       "    </tr>\n",
       "    <tr>\n",
       "      <th>8</th>\n",
       "      <td>Fe</td>\n",
       "      <td>0.000000</td>\n",
       "    </tr>\n",
       "  </tbody>\n",
       "</table>\n",
       "</div>"
      ],
      "text/plain": [
       "  feature  importance\n",
       "0      RI    0.071871\n",
       "1      Na    0.082840\n",
       "2      Mg    0.320142\n",
       "3      Al    0.237760\n",
       "4      Si    0.155650\n",
       "5       K    0.017020\n",
       "6      Ca    0.114717\n",
       "7      Ba    0.000000\n",
       "8      Fe    0.000000"
      ]
     },
     "execution_count": 11,
     "metadata": {},
     "output_type": "execute_result"
    }
   ],
   "source": [
    "# 독립변수 중요도 확인\n",
    "\n",
    "dt_model.feature_importances_\n",
    "\n",
    "pd.DataFrame({'feature' : x_train.columns,\n",
    "\n",
    "              'importance' : dt_model.feature_importances_})\n"
   ]
  },
  {
   "cell_type": "code",
   "execution_count": 13,
   "id": "646b0931",
   "metadata": {},
   "outputs": [
    {
     "name": "stdout",
     "output_type": "stream",
     "text": [
      "0.7093023255813954\n"
     ]
    },
    {
     "name": "stderr",
     "output_type": "stream",
     "text": [
      "c:\\Users\\KimDongyoung\\AppData\\Local\\Programs\\Python\\Python312\\Lib\\site-packages\\sklearn\\base.py:1152: DataConversionWarning: A column-vector y was passed when a 1d array was expected. Please change the shape of y to (n_samples,), for example using ravel().\n",
      "  return fit_method(estimator, *args, **kwargs)\n"
     ]
    }
   ],
   "source": [
    "# 랜덤포레스트 모델 생성\n",
    "\n",
    "# 기본 모델\n",
    "# rnf_model = RandomForestClassifier(n_estimators=100, max_depth=5,random_state=0)\n",
    "\n",
    "rnf_model = RandomForestClassifier(n_estimators=100, max_depth=5, random_state=0,\n",
    "                                   bootstrap=True, class_weight=None, criterion='gini',\n",
    "                                   max_features='sqrt', max_leaf_nodes=None,\n",
    "                                   min_impurity_decrease=0.0, min_samples_leaf=1, \n",
    "                                   min_samples_split=2, min_weight_fraction_leaf=0.0, \n",
    "                                   n_jobs=None, oob_score=False,  verbose=0,\n",
    "                                   warm_start=False)\n",
    "\n",
    "rnf_model.fit(x_train,y_train)\n",
    "\n",
    "y_pred = rnf_model.predict(x_test)\n",
    "print(accuracy_score(y_test,y_pred))\n"
   ]
  },
  {
   "cell_type": "code",
   "execution_count": 14,
   "id": "d14c1745",
   "metadata": {},
   "outputs": [
    {
     "name": "stdout",
     "output_type": "stream",
     "text": [
      "              precision    recall  f1-score   support\n",
      "\n",
      "           1       0.69      0.73      0.71        30\n",
      "           2       0.62      0.77      0.69        26\n",
      "           3       0.67      0.29      0.40         7\n",
      "           5       1.00      0.75      0.86         8\n",
      "           6       0.50      0.25      0.33         4\n",
      "           7       0.91      0.91      0.91        11\n",
      "\n",
      "    accuracy                           0.71        86\n",
      "   macro avg       0.73      0.62      0.65        86\n",
      "weighted avg       0.72      0.71      0.70        86\n",
      "\n"
     ]
    }
   ],
   "source": [
    "# 랜덤포레스트 모델 성능 리포트 출력\n",
    "\n",
    "print(classification_report(y_test, y_pred))"
   ]
  },
  {
   "cell_type": "code",
   "execution_count": 15,
   "id": "c9030884",
   "metadata": {},
   "outputs": [
    {
     "data": {
      "text/plain": [
       "Al    0.159236\n",
       "Ca    0.153955\n",
       "Mg    0.148816\n",
       "RI    0.140340\n",
       "Na    0.107937\n",
       "Ba    0.090783\n",
       "K     0.079957\n",
       "Si    0.072258\n",
       "Fe    0.046717\n",
       "dtype: float64"
      ]
     },
     "execution_count": 15,
     "metadata": {},
     "output_type": "execute_result"
    }
   ],
   "source": [
    "# 랜덤포레스트 변수 중요도 출력\n",
    "\n",
    "feature_imp = pd.Series(rnf_model.feature_importances_, \n",
    "                        index=x_train.columns).sort_values(ascending=False)\n",
    "feature_imp[:20]\n"
   ]
  }
 ],
 "metadata": {
  "kernelspec": {
   "display_name": "Python 3",
   "language": "python",
   "name": "python3"
  },
  "language_info": {
   "codemirror_mode": {
    "name": "ipython",
    "version": 3
   },
   "file_extension": ".py",
   "mimetype": "text/x-python",
   "name": "python",
   "nbconvert_exporter": "python",
   "pygments_lexer": "ipython3",
   "version": "3.12.0"
  }
 },
 "nbformat": 4,
 "nbformat_minor": 5
}
